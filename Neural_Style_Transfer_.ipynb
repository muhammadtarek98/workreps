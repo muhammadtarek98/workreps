{
 "cells": [
  {
   "cell_type": "code",
   "execution_count": 1,
   "metadata": {
    "id": "eQPRCHk0cmR8"
   },
   "outputs": [],
   "source": [
    "import torch\n",
    "import torch.nn as nn\n",
    "import torch.optim as optim\n",
    "import torchvision.models as models\n",
    "from PIL import Image\n",
    "import torchvision.transforms as tranforms\n",
    "from torchvision.utils import save_image\n",
    "import cv2 as cv\n",
    "import numpy as np"
   ]
  },
  {
   "cell_type": "code",
   "execution_count": 2,
   "metadata": {
    "id": "RNXY_1oQXIUO"
   },
   "outputs": [],
   "source": [
    "device=torch.device('cuda' if torch.cuda.is_available() else 'cpu')"
   ]
  },
  {
   "cell_type": "code",
   "execution_count": 3,
   "metadata": {},
   "outputs": [
    {
     "data": {
      "text/plain": [
       "'2.1.2+cu118'"
      ]
     },
     "execution_count": 3,
     "metadata": {},
     "output_type": "execute_result"
    }
   ],
   "source": [
    "torch.__version__"
   ]
  },
  {
   "cell_type": "code",
   "execution_count": 4,
   "metadata": {
    "id": "ucJfss72zxUz"
   },
   "outputs": [],
   "source": [
    "class vggfeatureextrator(nn.Module):\n",
    "  def __init__(self):\n",
    "    super(vggfeatureextrator,self).__init__()\n",
    "    self.model=models.vgg19(weights='VGG19_Weights.DEFAULT').features\n",
    "    self.selectedlayers=['0','5','10','19','28']\n",
    "  def forward(self,x):\n",
    "    outputfeatures=[]\n",
    "    for layernum,layer in enumerate(self.model):\n",
    "      x=layer(x)\n",
    "      if str(layernum) in self.selectedlayers:\n",
    "        outputfeatures.append(x)\n",
    "    return outputfeatures\n"
   ]
  },
  {
   "cell_type": "code",
   "execution_count": 5,
   "metadata": {
    "colab": {
     "base_uri": "https://localhost:8080/"
    },
    "id": "Y1L1t3BiVR48",
    "outputId": "63dbaec0-3d9d-404c-f5fe-6386c313476f"
   },
   "outputs": [],
   "source": [
    "modelvgg=vggfeatureextrator().to(device).eval()"
   ]
  },
  {
   "cell_type": "code",
   "execution_count": 6,
   "metadata": {
    "id": "vY9iuyVjXVYB"
   },
   "outputs": [],
   "source": [
    "imgsize=720\n",
    "loader=tranforms.Compose([\n",
    "    tranforms.Resize((imgsize,imgsize)),\n",
    "    tranforms.ToTensor()\n",
    "    ])"
   ]
  },
  {
   "cell_type": "code",
   "execution_count": 7,
   "metadata": {
    "id": "3TW58sgXV64j"
   },
   "outputs": [],
   "source": [
    "def imageloader(imgpath):\n",
    "  img = Image.open(imgpath).convert(\"RGB\")\n",
    "  img=loader(img).unsqueeze(0)\n",
    "  return img.to(device)"
   ]
  },
  {
   "cell_type": "code",
   "execution_count": null,
   "metadata": {},
   "outputs": [],
   "source": []
  },
  {
   "cell_type": "code",
   "execution_count": 8,
   "metadata": {
    "id": "qcElaIiHYb3Q"
   },
   "outputs": [],
   "source": [
    "contentimg=imageloader(imgpath=\"/home/tarek/projects/cameras-simulation-tool/src/uuv_simulator/uuv_gazebo_worlds/Media/materials/textures/Rusty-mat.jpg\")"
   ]
  },
  {
   "cell_type": "code",
   "execution_count": 9,
   "metadata": {
    "id": "ZSjZhLwVbUuB"
   },
   "outputs": [],
   "source": [
    "styleimg=imageloader(imgpath='/home/tarek/projects/cameras-simulation-tool/src/uuv_simulator/uuv_gazebo_worlds/Media/materials/textures/top-view-dark-soil-background.jpg')"
   ]
  },
  {
   "cell_type": "code",
   "execution_count": 11,
   "metadata": {},
   "outputs": [
    {
     "name": "stdout",
     "output_type": "stream",
     "text": [
      "torch.Size([1, 3, 720, 720])\n"
     ]
    }
   ],
   "source": [
    "print(contentimg.shape)"
   ]
  },
  {
   "cell_type": "code",
   "execution_count": null,
   "metadata": {},
   "outputs": [],
   "source": [
    "styleimg.shape"
   ]
  },
  {
   "cell_type": "code",
   "execution_count": 12,
   "metadata": {
    "id": "ceTU7FpGbkle"
   },
   "outputs": [],
   "source": [
    "generatedimg=contentimg.clone().requires_grad_(True)"
   ]
  },
  {
   "cell_type": "code",
   "execution_count": 19,
   "metadata": {
    "id": "Hi8M-e-xbkn5"
   },
   "outputs": [],
   "source": [
    "totalsteps=1000\n",
    "lr=1e-3\n",
    "alpha=0.025\n",
    "beta=1\n",
    "optimizer=optim.Adam([generatedimg],lr=lr)"
   ]
  },
  {
   "cell_type": "code",
   "execution_count": 20,
   "metadata": {
    "id": "g0v4IsBLlDXk"
   },
   "outputs": [],
   "source": [
    "def computecontentloss(g,c):\n",
    "  return torch.mean((g-c)**2)"
   ]
  },
  {
   "cell_type": "code",
   "execution_count": 21,
   "metadata": {
    "id": "AIrpOJJDlomV"
   },
   "outputs": [],
   "source": [
    "def computestyleloss(g,s):\n",
    "  b,c,h,w=g.shape\n",
    "  gen=g.view(c,h*w).mm(g.view(c,h*w).t())\n",
    "  style=s.view(c,h*w).mm(s.view(c,h*w).t())\n",
    "  return torch.mean((gen-style)**2)"
   ]
  },
  {
   "cell_type": "code",
   "execution_count": 22,
   "metadata": {},
   "outputs": [],
   "source": [
    "torch.backends.cuda.matmul.allow_tf32 = True\n",
    "torch.backends.cudnn.allow_tf32 = True\n",
    "torch.cuda.empty_cache()\n"
   ]
  },
  {
   "cell_type": "code",
   "execution_count": 23,
   "metadata": {},
   "outputs": [
    {
     "data": {
      "text/plain": [
       "'|===========================================================================|\\n|                  PyTorch CUDA memory summary, device ID 0                 |\\n|---------------------------------------------------------------------------|\\n|            CUDA OOMs: 2            |        cudaMalloc retries: 6         |\\n|===========================================================================|\\n|        Metric         | Cur Usage  | Peak Usage | Tot Alloc  | Tot Freed  |\\n|---------------------------------------------------------------------------|\\n| Allocated memory      |    893 MiB |   3672 MiB |  14567 GiB |  14566 GiB |\\n|       from large pool |    891 MiB |   3670 MiB |  14534 GiB |  14533 GiB |\\n|       from small pool |      2 MiB |      9 MiB |     33 GiB |     33 GiB |\\n|---------------------------------------------------------------------------|\\n| Active memory         |    893 MiB |   3672 MiB |  14567 GiB |  14566 GiB |\\n|       from large pool |    891 MiB |   3670 MiB |  14534 GiB |  14533 GiB |\\n|       from small pool |      2 MiB |      9 MiB |     33 GiB |     33 GiB |\\n|---------------------------------------------------------------------------|\\n| Requested memory      |    889 MiB |   3656 MiB |  14519 GiB |  14518 GiB |\\n|       from large pool |    887 MiB |   3654 MiB |  14486 GiB |  14485 GiB |\\n|       from small pool |      2 MiB |      9 MiB |     33 GiB |     33 GiB |\\n|---------------------------------------------------------------------------|\\n| GPU reserved memory   |   1212 MiB |   4202 MiB |   6600 MiB |   5388 MiB |\\n|       from large pool |   1208 MiB |   4190 MiB |   6548 MiB |   5340 MiB |\\n|       from small pool |      4 MiB |     12 MiB |     52 MiB |     48 MiB |\\n|---------------------------------------------------------------------------|\\n| Non-releasable memory | 326297 KiB |   1858 MiB |  11848 GiB |  11848 GiB |\\n|       from large pool | 324271 KiB |   1857 MiB |  11815 GiB |  11815 GiB |\\n|       from small pool |   2026 KiB |      5 MiB |     33 GiB |     33 GiB |\\n|---------------------------------------------------------------------------|\\n| Allocations           |      82    |     157    |  504065    |  503983    |\\n|       from large pool |      42    |     110    |  361045    |  361003    |\\n|       from small pool |      40    |      60    |  143020    |  142980    |\\n|---------------------------------------------------------------------------|\\n| Active allocs         |      82    |     157    |  504065    |  503983    |\\n|       from large pool |      42    |     110    |  361045    |  361003    |\\n|       from small pool |      40    |      60    |  143020    |  142980    |\\n|---------------------------------------------------------------------------|\\n| GPU reserved segments |      30    |      92    |     121    |      91    |\\n|       from large pool |      28    |      87    |      95    |      67    |\\n|       from small pool |       2    |       6    |      26    |      24    |\\n|---------------------------------------------------------------------------|\\n| Non-releasable allocs |      30    |      42    |  235645    |  235615    |\\n|       from large pool |      26    |      39    |  182657    |  182631    |\\n|       from small pool |       4    |       9    |   52988    |   52984    |\\n|---------------------------------------------------------------------------|\\n| Oversize allocations  |       0    |       0    |       0    |       0    |\\n|---------------------------------------------------------------------------|\\n| Oversize GPU segments |       0    |       0    |       0    |       0    |\\n|===========================================================================|\\n'"
      ]
     },
     "execution_count": 23,
     "metadata": {},
     "output_type": "execute_result"
    }
   ],
   "source": [
    "torch.cuda.memory_summary(device=device, abbreviated=False)"
   ]
  },
  {
   "cell_type": "code",
   "execution_count": 24,
   "metadata": {
    "colab": {
     "base_uri": "https://localhost:8080/"
    },
    "id": "cQylCV28bk41",
    "outputId": "1d610354-ec16-452d-b4c8-3b892c26cc7f"
   },
   "outputs": [
    {
     "name": "stdout",
     "output_type": "stream",
     "text": [
      "current losses : total loss is 6509369.0  style loss: 6509369.0  content loss: 2.877631664276123 \n",
      "\n",
      "current losses : total loss is 5290246.5  style loss: 5290246.5  content loss: 3.027958631515503 \n",
      "\n",
      "current losses : total loss is 4649101.5  style loss: 4649101.5  content loss: 3.1356170177459717 \n",
      "\n",
      "current losses : total loss is 4119426.5  style loss: 4119426.5  content loss: 3.222456455230713 \n",
      "\n",
      "current losses : total loss is 3662617.75  style loss: 3662617.75  content loss: 3.2945945262908936 \n",
      "\n",
      "current losses : total loss is 3281167.5  style loss: 3281167.5  content loss: 3.3551249504089355 \n",
      "\n",
      "current losses : total loss is 2941830.5  style loss: 2941830.5  content loss: 3.402787446975708 \n",
      "\n",
      "current losses : total loss is 2643784.75  style loss: 2643784.75  content loss: 3.4420876502990723 \n",
      "\n",
      "current losses : total loss is 2378257.5  style loss: 2378257.5  content loss: 3.47892427444458 \n",
      "\n",
      "current losses : total loss is 2134676.75  style loss: 2134676.75  content loss: 3.5129282474517822 \n",
      "\n"
     ]
    }
   ],
   "source": [
    "for step in range(totalsteps):\n",
    "  contentimgfeatures=modelvgg(contentimg)\n",
    "  styleimgfeatures=modelvgg(styleimg)\n",
    "  generatedimgfeatures=modelvgg(generatedimg)\n",
    "  contentloss=0\n",
    "  styleloss=0\n",
    "  for genfeature,contentfeature,stylefeature in zip(generatedimgfeatures\n",
    "                                                    ,contentimgfeatures,styleimgfeatures):\n",
    "    contentloss+=computecontentloss(genfeature,contentfeature)\n",
    "    styleloss+=computestyleloss(genfeature,stylefeature)\n",
    "  totalloss=alpha*contentloss+beta*styleloss\n",
    "  optimizer.zero_grad()\n",
    "  totalloss.backward()\n",
    "  optimizer.step()\n",
    "  if step%100==0:\n",
    "    print('current losses :','total loss is',totalloss.item(),\" style loss:\",styleloss.item(),' content loss:',contentloss.item(),'\\n')\n",
    "    save_image(generatedimg,'results_sand_3.png')"
   ]
  },
  {
   "cell_type": "code",
   "execution_count": null,
   "metadata": {},
   "outputs": [],
   "source": []
  }
 ],
 "metadata": {
  "colab": {
   "provenance": []
  },
  "kernelspec": {
   "display_name": "Python 3 (ipykernel)",
   "language": "python",
   "name": "python3"
  },
  "language_info": {
   "codemirror_mode": {
    "name": "ipython",
    "version": 3
   },
   "file_extension": ".py",
   "mimetype": "text/x-python",
   "name": "python",
   "nbconvert_exporter": "python",
   "pygments_lexer": "ipython3",
   "version": "3.8.10"
  }
 },
 "nbformat": 4,
 "nbformat_minor": 4
}
