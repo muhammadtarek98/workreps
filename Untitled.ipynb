{
 "cells": [
  {
   "cell_type": "code",
   "execution_count": 1,
   "id": "18d57f22-c1bd-4199-b235-4c1923cd6a3c",
   "metadata": {},
   "outputs": [],
   "source": [
    "from sklearn.cluster import KMeans\n",
    "import numpy as np\n",
    "import cv2 as cv\n",
    "import os\n",
    "from PIL import Image"
   ]
  },
  {
   "cell_type": "code",
   "execution_count": 17,
   "id": "eb31140a-9ded-4242-ab27-c7b4f51580fc",
   "metadata": {},
   "outputs": [],
   "source": [
    "def read_imgs(full_path):\n",
    "    l=[]\n",
    "    for subdir, dirs, files in os.walk(full_path):\n",
    "        for file in files:\n",
    "            if file.endswith(\".jpg\"):\n",
    "                print(os.path.join(full_path,subdir, file))\n",
    "                img=Image.open(os.path.join(full_path,subdir,file))\n",
    "                img=np.array(img)\n",
    "                flaten=img.flatten()\n",
    "                l.append(flaten)\n",
    "                print(\"in\")\n",
    "    return l"
   ]
  },
  {
   "cell_type": "code",
   "execution_count": 18,
   "id": "c68642de-11b2-46aa-9ad7-554eeb62d16e",
   "metadata": {},
   "outputs": [
    {
     "name": "stdout",
     "output_type": "stream",
     "text": [
      "D:\\camera parameters estimation dataset\\full\\000224_224_left.jpg\n",
      "in\n",
      "D:\\camera parameters estimation dataset\\full\\000224_224_right.jpg\n",
      "in\n",
      "D:\\camera parameters estimation dataset\\full\\000230_230_left.jpg\n",
      "in\n",
      "D:\\camera parameters estimation dataset\\full\\000230_230_right.jpg\n",
      "in\n",
      "D:\\camera parameters estimation dataset\\full\\000236_236_left.jpg\n",
      "in\n",
      "D:\\camera parameters estimation dataset\\full\\000236_236_right.jpg\n",
      "in\n",
      "D:\\camera parameters estimation dataset\\full\\002308_2308_left.jpg\n",
      "in\n",
      "D:\\camera parameters estimation dataset\\full\\002308_2308_right.jpg\n",
      "in\n",
      "D:\\camera parameters estimation dataset\\half\\000224_224_left.jpg\n",
      "in\n",
      "D:\\camera parameters estimation dataset\\half\\000224_224_right.jpg\n",
      "in\n",
      "D:\\camera parameters estimation dataset\\half\\000230_230_left.jpg\n",
      "in\n",
      "D:\\camera parameters estimation dataset\\half\\000230_230_right.jpg\n",
      "in\n",
      "D:\\camera parameters estimation dataset\\half\\000236_236_left.jpg\n",
      "in\n",
      "D:\\camera parameters estimation dataset\\half\\000236_236_right.jpg\n",
      "in\n",
      "D:\\camera parameters estimation dataset\\half\\002308_2308_left.jpg\n",
      "in\n",
      "D:\\camera parameters estimation dataset\\half\\002308_2308_right.jpg\n",
      "in\n",
      "D:\\camera parameters estimation dataset\\quart\\000224_224_left.jpg\n",
      "in\n",
      "D:\\camera parameters estimation dataset\\quart\\000224_224_right.jpg\n",
      "in\n",
      "D:\\camera parameters estimation dataset\\quart\\000230_230_left.jpg\n",
      "in\n",
      "D:\\camera parameters estimation dataset\\quart\\000230_230_right.jpg\n",
      "in\n",
      "D:\\camera parameters estimation dataset\\quart\\000236_236_left.jpg\n",
      "in\n",
      "D:\\camera parameters estimation dataset\\quart\\000236_236_right.jpg\n",
      "in\n",
      "D:\\camera parameters estimation dataset\\quart\\002308_2308_left.jpg\n",
      "in\n",
      "D:\\camera parameters estimation dataset\\quart\\002308_2308_right.jpg\n",
      "in\n"
     ]
    }
   ],
   "source": [
    "dataset=read_imgs(r\"D:\\camera parameters estimation dataset\")"
   ]
  },
  {
   "cell_type": "code",
   "execution_count": 19,
   "id": "f1a0ce81-f00d-4683-b16d-3a3dc50386e8",
   "metadata": {},
   "outputs": [
    {
     "name": "stdout",
     "output_type": "stream",
     "text": [
      "24\n"
     ]
    }
   ],
   "source": [
    "print(len(dataset))"
   ]
  },
  {
   "cell_type": "code",
   "execution_count": 22,
   "id": "1106bbe2-f24c-43c5-a33e-699b127ab2ad",
   "metadata": {},
   "outputs": [
    {
     "ename": "ValueError",
     "evalue": "setting an array element with a sequence. The requested array has an inhomogeneous shape after 1 dimensions. The detected shape was (24,) + inhomogeneous part.",
     "output_type": "error",
     "traceback": [
      "\u001b[1;31m---------------------------------------------------------------------------\u001b[0m",
      "\u001b[1;31mValueError\u001b[0m                                Traceback (most recent call last)",
      "Cell \u001b[1;32mIn[22], line 1\u001b[0m\n\u001b[1;32m----> 1\u001b[0m x\u001b[38;5;241m=\u001b[39m\u001b[43mnp\u001b[49m\u001b[38;5;241;43m.\u001b[39;49m\u001b[43marray\u001b[49m\u001b[43m(\u001b[49m\u001b[43mdataset\u001b[49m\u001b[43m)\u001b[49m\n\u001b[0;32m      2\u001b[0m x \u001b[38;5;241m=\u001b[39m np\u001b[38;5;241m.\u001b[39mexpand_dims(x, axis\u001b[38;5;241m=\u001b[39m\u001b[38;5;241m0\u001b[39m)\n",
      "\u001b[1;31mValueError\u001b[0m: setting an array element with a sequence. The requested array has an inhomogeneous shape after 1 dimensions. The detected shape was (24,) + inhomogeneous part."
     ]
    }
   ],
   "source": [
    "x=np.array(dataset)\n",
    "x = np.expand_dims(x, axis=0)"
   ]
  },
  {
   "cell_type": "code",
   "execution_count": 20,
   "id": "dab3f508-b8d5-4974-ad45-253b465d6c73",
   "metadata": {},
   "outputs": [
    {
     "ename": "ValueError",
     "evalue": "setting an array element with a sequence. The requested array has an inhomogeneous shape after 1 dimensions. The detected shape was (24,) + inhomogeneous part.",
     "output_type": "error",
     "traceback": [
      "\u001b[1;31m---------------------------------------------------------------------------\u001b[0m",
      "\u001b[1;31mValueError\u001b[0m                                Traceback (most recent call last)",
      "Cell \u001b[1;32mIn[20], line 1\u001b[0m\n\u001b[1;32m----> 1\u001b[0m kmeans \u001b[38;5;241m=\u001b[39m KMeans(n_clusters\u001b[38;5;241m=\u001b[39m\u001b[38;5;241m3\u001b[39m, random_state\u001b[38;5;241m=\u001b[39m\u001b[38;5;241m0\u001b[39m)\u001b[38;5;241m.\u001b[39mfit(\u001b[43mnp\u001b[49m\u001b[38;5;241;43m.\u001b[39;49m\u001b[43marray\u001b[49m\u001b[43m(\u001b[49m\u001b[43mdataset\u001b[49m\u001b[43m)\u001b[49m)\n",
      "\u001b[1;31mValueError\u001b[0m: setting an array element with a sequence. The requested array has an inhomogeneous shape after 1 dimensions. The detected shape was (24,) + inhomogeneous part."
     ]
    }
   ],
   "source": [
    "kmeans = KMeans(n_clusters=3, random_state=0).fit(np.array(dataset).expa)"
   ]
  },
  {
   "cell_type": "code",
   "execution_count": null,
   "id": "c6871881-19ce-4a02-9bc9-eca3b965ca47",
   "metadata": {},
   "outputs": [],
   "source": []
  }
 ],
 "metadata": {
  "kernelspec": {
   "display_name": "Python 3 (ipykernel)",
   "language": "python",
   "name": "python3"
  },
  "language_info": {
   "codemirror_mode": {
    "name": "ipython",
    "version": 3
   },
   "file_extension": ".py",
   "mimetype": "text/x-python",
   "name": "python",
   "nbconvert_exporter": "python",
   "pygments_lexer": "ipython3",
   "version": "3.10.9"
  }
 },
 "nbformat": 4,
 "nbformat_minor": 5
}
