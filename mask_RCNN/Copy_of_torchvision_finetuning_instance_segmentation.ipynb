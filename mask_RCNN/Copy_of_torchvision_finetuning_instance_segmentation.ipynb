{
 "cells": [
  {
   "cell_type": "code",
   "execution_count": 8,
   "metadata": {
    "id": "UKuyCiE1zCfL"
   },
   "outputs": [],
   "source": [
    "import json\n",
    "import os\n",
    "import numpy as np\n",
    "import pandas as pd\n",
    "import torch\n",
    "import torchvision\n",
    "from PIL import Image\n",
    "from torch.utils.data import Dataset\n",
    "#from shapely.geometry import Polygon\n",
    "from torchvision.io import read_image\n",
    "#from torchvision.ops.boxes import masks_to_boxes\n",
    "# from torchvision import tv_tensors\n",
    "from torchvision.transforms.v2 import functional as F\n",
    "import torchvision\n",
    "from torchvision.models.detection.faster_rcnn import FastRCNNPredictor\n",
    "from torchvision.models.detection.mask_rcnn import MaskRCNNPredictor\n",
    "from detection import utils, engine\n",
    "class CustomDataset(torch.utils.data.Dataset):\n",
    "    def __init__(self, root, transforms):\n",
    "        self.root = root\n",
    "        self.transforms = transforms\n",
    "        # load all image files, sorting them to\n",
    "        # ensure that they are aligned\n",
    "        self.imgs = list(sorted(os.listdir(os.path.join(root, \"masks\"))))\n",
    "        self.masks = list(sorted(os.listdir(os.path.join(root, \"masks\"))))\n",
    "\n",
    "    def __getitem__(self, idx):\n",
    "        # load images and masks\n",
    "        img_path = os.path.join(self.root, \"images\", self.imgs[idx])\n",
    "        mask_path = os.path.join(self.root, \"masks\", self.masks[idx])\n",
    "        img = read_image(img_path)\n",
    "        mask = read_image(mask_path)\n",
    "        obj_ids = torch.unique(mask)[1:]\n",
    "        num_objs = len(obj_ids)\n",
    "        masks = (mask == obj_ids[:, None, None]).to(dtype=torch.uint8)\n",
    "        # boxes = torchvision.ops.boxes.masks_to_boxes(masks)\n",
    "        boxes = []\n",
    "        for i in range(num_objs):\n",
    "            pos = np.where(masks[i])\n",
    "            xmin = np.min(pos[1])\n",
    "            xmax = np.max(pos[1])\n",
    "            ymin = np.min(pos[0])\n",
    "            ymax = np.max(pos[0])\n",
    "            if xmin == xmax or ymin == ymax:\n",
    "                continue\n",
    "            boxes.append([xmin, ymin, xmax, ymax])\n",
    "        boxes = torch.as_tensor(boxes, dtype=torch.float32)\n",
    "        labels = torch.ones((num_objs,), dtype=torch.int64)\n",
    "        image_id = idx\n",
    "        area = (boxes[:, 3] - boxes[:, 1]) * (boxes[:, 2] - boxes[:, 0])\n",
    "        iscrowd = torch.zeros((num_objs,), dtype=torch.int64)\n",
    "        img = tv_tensors.Image(img)\n",
    "        target = {}\n",
    "        target[\"boxes\"] = boxes\n",
    "        target[\"masks\"] = tv_tensors.Mask(masks)\n",
    "        target[\"labels\"] = labels\n",
    "        target[\"image_id\"] = image_id\n",
    "        target[\"area\"] = area\n",
    "        target[\"iscrowd\"] = iscrowd\n",
    "        if self.transforms is not None:\n",
    "            img = self.transforms(img)\n",
    "        return img, target\n",
    "    def __len__(self):\n",
    "        return len(self.imgs)\n",
    "\n",
    "\n",
    "def get_transform(train):\n",
    "    transforms = []\n",
    "    if train:\n",
    "        transforms.append(torchvision.transforms.RandomHorizontalFlip(0.5))\n",
    "    transforms.append(torchvision.transforms.v2.ToDtype(torch.int))\n",
    "    # transforms.append(torchvision.transforms.ToTensor())\n",
    "    return torchvision.transforms.Compose(transforms)\n"
   ]
  },
  {
   "cell_type": "code",
   "execution_count": 9,
   "metadata": {
    "id": "VVYZ2HmxzCfN"
   },
   "outputs": [],
   "source": [
    "\n",
    "def get_model_instance_segmentation(num_classes):\n",
    "    # load an instance segmentation model pre-trained on COCO\n",
    "    model = torchvision.models.detection.maskrcnn_resnet50_fpn(weights=\"DEFAULT\")\n",
    "\n",
    "    # get number of input features for the classifier\n",
    "    in_features = model.roi_heads.box_predictor.cls_score.in_features\n",
    "    # replace the pre-trained head with a new one\n",
    "    model.roi_heads.box_predictor = FastRCNNPredictor(in_features, num_classes)\n",
    "\n",
    "    # now get the number of input features for the mask classifier\n",
    "    in_features_mask = model.roi_heads.mask_predictor.conv5_mask.in_channels\n",
    "    hidden_layer = 256\n",
    "    # and replace the mask predictor with a new one\n",
    "    model.roi_heads.mask_predictor = MaskRCNNPredictor(\n",
    "        in_features_mask,\n",
    "        hidden_layer,\n",
    "        num_classes\n",
    "    )\n",
    "\n",
    "    return model"
   ]
  },
  {
   "cell_type": "code",
   "execution_count": 10,
   "metadata": {},
   "outputs": [
    {
     "ename": "TypeError",
     "evalue": "ToDtype.__init__() got an unexpected keyword argument 'scale'",
     "output_type": "error",
     "traceback": [
      "\u001b[1;31m---------------------------------------------------------------------------\u001b[0m",
      "\u001b[1;31mTypeError\u001b[0m                                 Traceback (most recent call last)",
      "\u001b[1;32md:\\mask_RCNN\\Copy_of_torchvision_finetuning_instance_segmentation.ipynb Cell 3\u001b[0m line \u001b[0;36m2\n\u001b[0;32m      <a href='vscode-notebook-cell:/d%3A/mask_RCNN/Copy_of_torchvision_finetuning_instance_segmentation.ipynb#W3sZmlsZQ%3D%3D?line=0'>1</a>\u001b[0m root_dir \u001b[39m=\u001b[39m \u001b[39mr\u001b[39m\u001b[39m\"\u001b[39m\u001b[39mD:\u001b[39m\u001b[39m\\\u001b[39m\u001b[39mgraval detection project\u001b[39m\u001b[39m\\\u001b[39m\u001b[39mdatasets\u001b[39m\u001b[39m\\\u001b[39m\u001b[39munperpared data\u001b[39m\u001b[39m\\\u001b[39m\u001b[39mimages under water\u001b[39m\u001b[39m\\\u001b[39m\u001b[39mDEV_000F3102E45A_22_October_2023_10_44_29_jpg\u001b[39m\u001b[39m\"\u001b[39m\n\u001b[1;32m----> <a href='vscode-notebook-cell:/d%3A/mask_RCNN/Copy_of_torchvision_finetuning_instance_segmentation.ipynb#W3sZmlsZQ%3D%3D?line=1'>2</a>\u001b[0m transforms \u001b[39m=\u001b[39m get_transform(train\u001b[39m=\u001b[39;49m\u001b[39mTrue\u001b[39;49;00m)\n\u001b[0;32m      <a href='vscode-notebook-cell:/d%3A/mask_RCNN/Copy_of_torchvision_finetuning_instance_segmentation.ipynb#W3sZmlsZQ%3D%3D?line=3'>4</a>\u001b[0m dataset \u001b[39m=\u001b[39m CustomDataset(\n\u001b[0;32m      <a href='vscode-notebook-cell:/d%3A/mask_RCNN/Copy_of_torchvision_finetuning_instance_segmentation.ipynb#W3sZmlsZQ%3D%3D?line=4'>5</a>\u001b[0m         root\u001b[39m=\u001b[39mroot_dir,\n\u001b[0;32m      <a href='vscode-notebook-cell:/d%3A/mask_RCNN/Copy_of_torchvision_finetuning_instance_segmentation.ipynb#W3sZmlsZQ%3D%3D?line=5'>6</a>\u001b[0m         transforms\u001b[39m=\u001b[39mtransforms)\n\u001b[0;32m      <a href='vscode-notebook-cell:/d%3A/mask_RCNN/Copy_of_torchvision_finetuning_instance_segmentation.ipynb#W3sZmlsZQ%3D%3D?line=6'>7</a>\u001b[0m model \u001b[39m=\u001b[39m get_model_instance_segmentation(num_classes\u001b[39m=\u001b[39m\u001b[39m2\u001b[39m)\n",
      "\u001b[1;32md:\\mask_RCNN\\Copy_of_torchvision_finetuning_instance_segmentation.ipynb Cell 3\u001b[0m line \u001b[0;36m7\n\u001b[0;32m     <a href='vscode-notebook-cell:/d%3A/mask_RCNN/Copy_of_torchvision_finetuning_instance_segmentation.ipynb#W3sZmlsZQ%3D%3D?line=68'>69</a>\u001b[0m \u001b[39mif\u001b[39;00m train:\n\u001b[0;32m     <a href='vscode-notebook-cell:/d%3A/mask_RCNN/Copy_of_torchvision_finetuning_instance_segmentation.ipynb#W3sZmlsZQ%3D%3D?line=69'>70</a>\u001b[0m     transforms\u001b[39m.\u001b[39mappend(torchvision\u001b[39m.\u001b[39mtransforms\u001b[39m.\u001b[39mRandomHorizontalFlip(\u001b[39m0.5\u001b[39m))\n\u001b[1;32m---> <a href='vscode-notebook-cell:/d%3A/mask_RCNN/Copy_of_torchvision_finetuning_instance_segmentation.ipynb#W3sZmlsZQ%3D%3D?line=70'>71</a>\u001b[0m transforms\u001b[39m.\u001b[39mappend(torchvision\u001b[39m.\u001b[39;49mtransforms\u001b[39m.\u001b[39;49mv2\u001b[39m.\u001b[39;49mToDtype(torch\u001b[39m.\u001b[39;49mint, scale\u001b[39m=\u001b[39;49m\u001b[39mTrue\u001b[39;49;00m))\n\u001b[0;32m     <a href='vscode-notebook-cell:/d%3A/mask_RCNN/Copy_of_torchvision_finetuning_instance_segmentation.ipynb#W3sZmlsZQ%3D%3D?line=71'>72</a>\u001b[0m \u001b[39m# transforms.append(torchvision.transforms.ToTensor())\u001b[39;00m\n\u001b[0;32m     <a href='vscode-notebook-cell:/d%3A/mask_RCNN/Copy_of_torchvision_finetuning_instance_segmentation.ipynb#W3sZmlsZQ%3D%3D?line=72'>73</a>\u001b[0m \u001b[39mreturn\u001b[39;00m torchvision\u001b[39m.\u001b[39mtransforms\u001b[39m.\u001b[39mCompose(transforms)\n",
      "\u001b[1;31mTypeError\u001b[0m: ToDtype.__init__() got an unexpected keyword argument 'scale'"
     ]
    }
   ],
   "source": [
    "root_dir = r\"D:\\graval detection project\\datasets\\unperpared data\\images under water\\DEV_000F3102E45A_22_October_2023_10_44_29_jpg\"\n",
    "transforms = get_transform(train=True)\n",
    "\n",
    "dataset = CustomDataset(\n",
    "        root=root_dir,\n",
    "        transforms=transforms)\n",
    "model = get_model_instance_segmentation(num_classes=2)\n",
    "params = [p for p in model.parameters() if p.requires_grad]\n",
    "optimizer = torch.optim.SGD(params, lr=1e-2, momentum=0.9, weight_decay=0.0005)\n",
    "lr_scheduler = torch.optim.lr_scheduler.StepLR(optimizer,\n",
    "                                                   step_size=5,\n",
    "                                                   gamma=0.1)\n",
    "    # dataset = PennFudanDataset('data/PennFudanPed', get_transform(train=True))\n",
    "data_loader = torch.utils.data.DataLoader(\n",
    "        dataset,\n",
    "        batch_size=2,\n",
    "        shuffle=True,\n",
    "        num_workers=0,\n",
    "        collate_fn=utils.collate_fn\n",
    "    )\n",
    "num_epochs = 3\n",
    "device = torch.device(\"cuda\" if torch.cuda.is_available() else \"cpu\")\n",
    "print(device)\n",
    "    # data_loader = torch.utils.data.DataLoader(dataset, batch_size=1, shuffle=True)\n",
    "for epoch in range(num_epochs):\n",
    "        run=engine.train_one_epoch(model, optimizer, data_loader, device, epoch, print_freq=100)\n",
    "        # print(data_loader[epoch])\n",
    "        print(data_loader)\n",
    "        lr_scheduler.step()\n",
    "        res = engine.evaluate(model=model, device=device, data_loader=data_loader)"
   ]
  },
  {
   "cell_type": "code",
   "execution_count": null,
   "metadata": {},
   "outputs": [
    {
     "ename": "",
     "evalue": "",
     "output_type": "error",
     "traceback": [
      "\u001b[1;31mRunning cells with 'base' requires the ipykernel package.\n",
      "\u001b[1;31mRun the following command to install 'ipykernel' into the Python environment. \n",
      "\u001b[1;31mCommand: 'conda install -n base ipykernel --update-deps --force-reinstall'"
     ]
    }
   ],
   "source": [
    "torch.cuda.is_available()"
   ]
  },
  {
   "cell_type": "code",
   "execution_count": 110,
   "metadata": {
    "id": "l7XNl5XyzCfO"
   },
   "outputs": [
    {
     "name": "stderr",
     "output_type": "stream",
     "text": [
      "C:\\Users\\m.aboelmagd\\AppData\\Local\\Temp\\ipykernel_23488\\272344380.py:26: UserWarning: FigureCanvasAgg is non-interactive, and thus cannot be shown\n",
      "  plt.show()\n"
     ]
    }
   ],
   "source": [
    "import matplotlib.pyplot as plt\n",
    "from torchvision.utils import draw_bounding_boxes, draw_segmentation_masks\n",
    "image = read_image(r\"D:\\graval detection project\\datasets\\unperpared data\\images under water\\DEV_000F3102E45A_22_October_2023_10_44_29_jpg\\265_left_2023_10_22_10_45_14.jpg\")\n",
    "eval_transform = get_transform(train=False)\n",
    "model.eval()\n",
    "with torch.no_grad():\n",
    "    x = eval_transform(image)\n",
    "    # convert RGBA -> RGB and move to device\n",
    "    x = x[:3, ...].to(device)\n",
    "    predictions = model([x, ])\n",
    "    pred = predictions[0]\n",
    "\n",
    "#image = (255.0 * (image - image.min()) / (image.max() - image.min())).to(torch.uint8)\n",
    "#image = image[:3, ...]\n",
    "pred_labels = [f\"stone: {score:.3f}\" for label, score in zip(pred[\"labels\"], pred[\"scores\"])]\n",
    "print(pred_labels)\n",
    "pred_boxes = pred[\"boxes\"].long()\n",
    "output_image = draw_bounding_boxes(image, pred_boxes, pred_labels, colors=\"red\")\n",
    "for i in pred[\"masks\"]:\n",
    "    print(i)\n",
    "    \n",
    "masks = (pred[\"masks\"] > 0.9).squeeze(1)\n",
    "output_image = draw_segmentation_masks(output_image, masks, alpha=0.4, colors=\"red\")\n",
    "#print(output_image.shape)\n",
    "plt.figure(figsize=(3, 3))\n",
    "plt.imshow(output_image.permute(1, 2, 0),)\n",
    "plt.show()"
   ]
  },
  {
   "cell_type": "code",
   "execution_count": 103,
   "metadata": {},
   "outputs": [
    {
     "data": {
      "text/plain": [
       "True"
      ]
     },
     "execution_count": 103,
     "metadata": {},
     "output_type": "execute_result"
    }
   ],
   "source": [
    "#print(output_image.shape)\n",
    "#print(output_image.dtype)\n",
    "#print(output_image)\n",
    "# Ensure correct range of values\n",
    "#output_image = output_image * 255.0\n",
    "\n",
    "# Ensure correct permutation\n",
    "#output_image = output_image.permute(1, 2, 0)\n",
    "import cv2\n",
    "# Save the image\n",
    "cv2.imwrite(filename=\"results.png\",img=np.array(output_image.permute(1, 2, 0)))\n"
   ]
  },
  {
   "cell_type": "code",
   "execution_count": 104,
   "metadata": {},
   "outputs": [],
   "source": [
    "from pathlib import Path\n",
    "\n",
    "def save_model(model: torch.nn.Module,\n",
    "               target_dir: str,\n",
    "               model_name: str):\n",
    "  \"\"\"Saves a PyTorch model to a target directory.\n",
    "\n",
    "  Args:\n",
    "    model: A target PyTorch model to save.\n",
    "    target_dir: A directory for saving the model to.\n",
    "    model_name: A filename for the saved model. Should include\n",
    "      either \".pth\" or \".pt\" as the file extension.\n",
    "\n",
    "  Example usage:\n",
    "    save_model(model=model_0,\n",
    "               target_dir=\"models\",\n",
    "               model_name=\"05_going_modular_tingvgg_model.pth\")\n",
    "  \"\"\"\n",
    "  # Create target directory\n",
    "  target_dir_path = Path(target_dir)\n",
    "  target_dir_path.mkdir(parents=True,\n",
    "                        exist_ok=True)\n",
    "\n",
    "  # Create model save path\n",
    "  assert model_name.endswith(\".pth\") or model_name.endswith(\".pt\"), \"model_name should end with '.pt' or '.pth'\"\n",
    "  model_save_path = target_dir_path / model_name\n",
    "\n",
    "  # Save the model state_dict()\n",
    "  print(f\"[INFO] Saving model to: {model_save_path}\")\n",
    "  torch.save(obj=model.state_dict(),\n",
    "             f=model_save_path)"
   ]
  },
  {
   "cell_type": "code",
   "execution_count": 107,
   "metadata": {},
   "outputs": [
    {
     "name": "stdout",
     "output_type": "stream",
     "text": [
      "[INFO] Saving model to: models\\maskrcnn_on_stones_v1.pth\n"
     ]
    }
   ],
   "source": [
    "#from going_modular import utils\n",
    "\n",
    "# Save a model to file\n",
    "save_model(model=model,target_dir=\"models\",\n",
    "           model_name=\"maskrcnn_on_stones_v1.pth\")"
   ]
  },
  {
   "cell_type": "code",
   "execution_count": 109,
   "metadata": {},
   "outputs": [],
   "source": [
    "def pred_and_plot_image(model: torch.nn.Module, \n",
    "                        image_path: str, \n",
    "                        class_names: list[str] = None, \n",
    "                        transform=None,\n",
    "                        device: torch.device = device):\n",
    "    \"\"\"Makes a prediction on a target image and plots the image with its prediction.\"\"\"\n",
    "    \n",
    "    # 1. Load in image and convert the tensor values to float32\n",
    "    target_image = torchvision.io.read_image(str(image_path)).type(torch.float32)\n",
    "    \n",
    "    # 2. Divide the image pixel values by 255 to get them between [0, 1]\n",
    "    target_image = target_image / 255. \n",
    "    \n",
    "    # 3. Transform if necessary\n",
    "    if transform:\n",
    "        target_image = transform(target_image)\n",
    "    \n",
    "    # 4. Make sure the model is on the target device\n",
    "    model.to(device)\n",
    "    \n",
    "    # 5. Turn on model evaluation mode and inference mode\n",
    "    model.eval()\n",
    "    with torch.inference_mode():\n",
    "        # Add an extra dimension to the image\n",
    "        target_image = target_image.unsqueeze(dim=0)\n",
    "    \n",
    "        # Make a prediction on image with an extra dimension and send it to the target device\n",
    "        target_image_pred = model(target_image.to(device))\n",
    "        \n",
    "    # 6. Convert logits -> prediction probabilities (using torch.softmax() for multi-class classification)\n",
    "    target_image_pred_probs = torch.softmax(target_image_pred, dim=1)\n",
    "\n",
    "    # 7. Convert prediction probabilities -> prediction labels\n",
    "    target_image_pred_label = torch.argmax(target_image_pred_probs, dim=1)\n",
    "    \n",
    "    # 8. Plot the image alongside the prediction and prediction probability\n",
    "    plt.imshow(target_image.squeeze().permute(1, 2, 0)) # make sure it's the right size for matplotlib\n",
    "    if class_names:\n",
    "        title = f\"Pred: {class_names[target_image_pred_label.cpu()]} | Prob: {target_image_pred_probs.max().cpu():.3f}\"\n",
    "    else: \n",
    "        title = f\"Pred: {target_image_pred_label} | Prob: {target_image_pred_probs.max().cpu():.3f}\"\n",
    "    plt.title(title)\n",
    "    plt.axis(False)"
   ]
  }
 ],
 "metadata": {
  "accelerator": "GPU",
  "colab": {
   "provenance": []
  },
  "kernelspec": {
   "display_name": "Python 3 (ipykernel)",
   "language": "python",
   "name": "python3"
  },
  "language_info": {
   "codemirror_mode": {
    "name": "ipython",
    "version": 3
   },
   "file_extension": ".py",
   "mimetype": "text/x-python",
   "name": "python",
   "nbconvert_exporter": "python",
   "pygments_lexer": "ipython3",
   "version": "3.10.9"
  }
 },
 "nbformat": 4,
 "nbformat_minor": 4
}
